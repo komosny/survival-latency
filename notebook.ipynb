{
 "cells": [
  {
   "cell_type": "markdown",
   "source": "This notebook demonstrates **ISP latency assessment**, based on the paper \"General Internet Service Assessment by Latency Including Blocked Measurements\".\n\nIf custom data are used, please specify the variables below.",
   "metadata": {
    "cell_id": "5eb7386e-4192-4297-b58c-f565c79655b7",
    "tags": [],
    "deepnote_cell_type": "markdown",
    "deepnote_cell_height": 111.1875
   }
  },
  {
   "cell_type": "code",
   "metadata": {
    "cell_id": "3f27e3d3-b43b-4a2c-8054-335c7c2374f7",
    "tags": [],
    "deepnote_to_be_reexecuted": false,
    "source_hash": "97a6a483",
    "execution_start": 1656072635432,
    "execution_millis": 37,
    "deepnote_cell_type": "code",
    "deepnote_cell_height": 315
   },
   "source": "#RIPE Atlas probes\natlasfile = '20220202.json'\n\n#country ISO A2 and A3 codes\ncountrya2 = 'CZ'; countrya3 = 'CZE'\n\n#max latency observation points in country\npointmax = 200\n\n#approx. location of the host OR set geo plot to False\ngeographicplot = False\nendhostlat = 50; endhostlon = 16\n\n#inputs are not validated for code simplicity",
   "execution_count": 1,
   "outputs": []
  },
  {
   "cell_type": "code",
   "metadata": {
    "cell_id": "686148eb-f1e6-4216-8d3f-ae3e4b0d9e61",
    "tags": [],
    "deepnote_to_be_reexecuted": false,
    "source_hash": "615f54c",
    "execution_start": 1656072635470,
    "execution_millis": 16971,
    "deepnote_cell_type": "code",
    "deepnote_cell_height": 189
   },
   "source": "%%capture\n!pip install numpy\n!pip install shapely\n!pip install pandas\n!pip install matplotlib\n!pip install geopandas\n!pip install lifelines",
   "execution_count": 2,
   "outputs": []
  },
  {
   "cell_type": "code",
   "metadata": {
    "tags": [],
    "cell_id": "00001-e7c668c3-76bd-43cf-a35c-cafe1e2a42ac",
    "deepnote_to_be_reexecuted": false,
    "source_hash": "998b903a",
    "execution_start": 1656072652441,
    "execution_millis": 1759,
    "deepnote_app_coordinates": {
     "x": 0,
     "y": 15,
     "w": 12,
     "h": 5
    },
    "deepnote_cell_type": "code",
    "deepnote_cell_height": 387
   },
   "source": "#standard modules \nimport sys; import os; import json; import glob\n\n#data processing\nimport numpy as np; import pandas as pd \nimport matplotlib.pyplot as plt\n\n#geography\nimport geopandas as gpd\nfrom shapely.geometry import LineString\nfrom matplotlib.lines import Line2D\n\n#survival analysis\nfrom lifelines import KaplanMeierFitter\nfrom lifelines.utils import restricted_mean_survival_time\nfrom lifelines.plotting import plot_lifetimes\nfrom lifelines.plotting import rmst_plot\nfrom lifelines.plotting import add_at_risk_counts",
   "execution_count": 3,
   "outputs": []
  },
  {
   "cell_type": "markdown",
   "source": "Process RIPE Atlas probes in country into observation points",
   "metadata": {
    "cell_id": "95da34db-42eb-42d9-bfd3-4690c5274002",
    "tags": [],
    "deepnote_app_coordinates": {
     "x": 0,
     "y": 33,
     "w": 12,
     "h": 5
    },
    "deepnote_cell_type": "markdown",
    "deepnote_cell_height": 52.390625
   }
  },
  {
   "cell_type": "code",
   "metadata": {
    "cell_id": "a4db5d3f-9296-400d-adc9-7402f9e91802",
    "tags": [],
    "deepnote_to_be_reexecuted": false,
    "source_hash": "eb038578",
    "execution_start": 1656072654210,
    "execution_millis": 624,
    "deepnote_app_coordinates": {
     "x": 0,
     "y": 39,
     "w": 12,
     "h": 5
    },
    "deepnote_table_state": {
     "pageSize": 10,
     "pageIndex": 0,
     "filters": [
      {
       "id": "pointid",
       "value": "",
       "type": "contains"
      }
     ],
     "sortBy": []
    },
    "deepnote_table_loading": false,
    "deepnote_cell_type": "code",
    "deepnote_cell_height": 1280
   },
   "source": "#load RIPE Atlas file with list of probes\ntry:\n    probes_js = json.load(open('atlas/'+atlasfile))\nexcept:\n    print('RIPE Atlas file'+' atlas/'+atlasfile+' does not exist or cannot be open')\n    raise\n\n#parse Atlas data\nprobes_pf = pd.DataFrame(probes_js['objects'])\nprobes_pf = probes_pf.filter(['id','address_v4','status_name','country_code','latitude','longitude'])\nprobes_pf = probes_pf.rename(columns={'id':'pointid','address_v4':'ip','status_name':'sts','country_code':'cntr','latitude':'lat','longitude':'lon'})\nprobes_pf.pointid = probes_pf.pointid.astype('str') \n\n#filter Atlas probes with IPv4 address, in specified country, and currently functional\npoints_pf = probes_pf.loc[(pd.notna(probes_pf.ip)) & (probes_pf.cntr == countrya2) & (probes_pf.sts == 'Connected')] \n\ndel probes_pf\n\n#reduce number of observation points for latency measurement if above pointmax\nif len(points_pf) > pointmax:\n    pointsmsr_pf = points_pf.sample(pointmax)\nelse:\n    pointsmsr_pf = points_pf\n\n#custom data = Atlas file of different name is uploaded\nif atlasfile != '20220202.json':\n\n    #store new latency observation points\n    pointsmsr_pf.to_csv('points.csv',header=False,index=False)\n\n#show latency observation points\n#pointid - Atlas probe ID\n#ip - Atlas probe IP address\n#sts - Atlas probe current status\n#cntr - Atlas probe country ISO A2\n#lat,lon - Atlas probe coordinates\npoints_pf",
   "execution_count": 4,
   "outputs": [
    {
     "output_type": "execute_result",
     "execution_count": 4,
     "data": {
      "application/vnd.deepnote.dataframe.v3+json": {
       "column_count": 6,
       "row_count": 254,
       "columns": [
        {
         "name": "pointid",
         "dtype": "object",
         "stats": {
          "unique_count": 254,
          "nan_count": 0,
          "categories": [
           {
            "name": "1000034",
            "count": 1
           },
           {
            "name": "1000056",
            "count": 1
           },
           {
            "name": "252 others",
            "count": 252
           }
          ]
         }
        },
        {
         "name": "ip",
         "dtype": "object",
         "stats": {
          "unique_count": 246,
          "nan_count": 0,
          "categories": [
           {
            "name": "217.31.205.1",
            "count": 4
           },
           {
            "name": "95.85.255.147",
            "count": 3
           },
           {
            "name": "244 others",
            "count": 247
           }
          ]
         }
        },
        {
         "name": "sts",
         "dtype": "object",
         "stats": {
          "unique_count": 1,
          "nan_count": 0,
          "categories": [
           {
            "name": "Connected",
            "count": 254
           }
          ]
         }
        },
        {
         "name": "cntr",
         "dtype": "object",
         "stats": {
          "unique_count": 1,
          "nan_count": 0,
          "categories": [
           {
            "name": "CZ",
            "count": 254
           }
          ]
         }
        },
        {
         "name": "lat",
         "dtype": "float64",
         "stats": {
          "unique_count": 178,
          "nan_count": 0,
          "min": "48.8015",
          "max": "50.8405",
          "histogram": [
           {
            "bin_start": 48.8015,
            "bin_end": 49.005399999999995,
            "count": 11
           },
           {
            "bin_start": 49.005399999999995,
            "bin_end": 49.2093,
            "count": 25
           },
           {
            "bin_start": 49.2093,
            "bin_end": 49.413199999999996,
            "count": 22
           },
           {
            "bin_start": 49.413199999999996,
            "bin_end": 49.6171,
            "count": 16
           },
           {
            "bin_start": 49.6171,
            "bin_end": 49.821,
            "count": 20
           },
           {
            "bin_start": 49.821,
            "bin_end": 50.024899999999995,
            "count": 29
           },
           {
            "bin_start": 50.024899999999995,
            "bin_end": 50.2288,
            "count": 106
           },
           {
            "bin_start": 50.2288,
            "bin_end": 50.4327,
            "count": 10
           },
           {
            "bin_start": 50.4327,
            "bin_end": 50.6366,
            "count": 6
           },
           {
            "bin_start": 50.6366,
            "bin_end": 50.8405,
            "count": 9
           }
          ]
         }
        },
        {
         "name": "lon",
         "dtype": "float64",
         "stats": {
          "unique_count": 205,
          "nan_count": 0,
          "min": "12.6385",
          "max": "18.7575",
          "histogram": [
           {
            "bin_start": 12.6385,
            "bin_end": 13.2504,
            "count": 5
           },
           {
            "bin_start": 13.2504,
            "bin_end": 13.862300000000001,
            "count": 8
           },
           {
            "bin_start": 13.862300000000001,
            "bin_end": 14.4742,
            "count": 86
           },
           {
            "bin_start": 14.4742,
            "bin_end": 15.0861,
            "count": 56
           },
           {
            "bin_start": 15.0861,
            "bin_end": 15.698,
            "count": 10
           },
           {
            "bin_start": 15.698,
            "bin_end": 16.3099,
            "count": 17
           },
           {
            "bin_start": 16.3099,
            "bin_end": 16.9218,
            "count": 38
           },
           {
            "bin_start": 16.9218,
            "bin_end": 17.5337,
            "count": 10
           },
           {
            "bin_start": 17.5337,
            "bin_end": 18.1456,
            "count": 7
           },
           {
            "bin_start": 18.1456,
            "bin_end": 18.7575,
            "count": 17
           }
          ]
         }
        },
        {
         "name": "_deepnote_index_column",
         "dtype": "int64"
        }
       ],
       "rows": [
        {
         "pointid": "1000034",
         "ip": "81.201.60.30",
         "sts": "Connected",
         "cntr": "CZ",
         "lat": 50.0895,
         "lon": 14.4885,
         "_deepnote_index_column": 38
        },
        {
         "pointid": "1000056",
         "ip": "176.74.145.221",
         "sts": "Connected",
         "cntr": "CZ",
         "lat": 49.3105,
         "lon": 16.6195,
         "_deepnote_index_column": 60
        },
        {
         "pointid": "1000057",
         "ip": "90.177.221.181",
         "sts": "Connected",
         "cntr": "CZ",
         "lat": 49.1905,
         "lon": 16.5795,
         "_deepnote_index_column": 61
        },
        {
         "pointid": "1000059",
         "ip": "46.28.109.126",
         "sts": "Connected",
         "cntr": "CZ",
         "lat": 49.0515,
         "lon": 14.4295,
         "_deepnote_index_column": 63
        },
        {
         "pointid": "1000063",
         "ip": "84.242.77.74",
         "sts": "Connected",
         "cntr": "CZ",
         "lat": 50.0085,
         "lon": 14.4505,
         "_deepnote_index_column": 67
        },
        {
         "pointid": "1000067",
         "ip": "89.203.138.135",
         "sts": "Connected",
         "cntr": "CZ",
         "lat": 50.2005,
         "lon": 14.3505,
         "_deepnote_index_column": 70
        },
        {
         "pointid": "1000068",
         "ip": "178.255.168.142",
         "sts": "Connected",
         "cntr": "CZ",
         "lat": 49.0515,
         "lon": 17.4705,
         "_deepnote_index_column": 71
        },
        {
         "pointid": "1000069",
         "ip": "95.85.255.147",
         "sts": "Connected",
         "cntr": "CZ",
         "lat": 49.1615,
         "lon": 16.7305,
         "_deepnote_index_column": 72
        },
        {
         "pointid": "1000071",
         "ip": "194.108.18.16",
         "sts": "Connected",
         "cntr": "CZ",
         "lat": 49.3175,
         "lon": 17.4605,
         "_deepnote_index_column": 74
        },
        {
         "pointid": "1000078",
         "ip": "89.221.216.46",
         "sts": "Connected",
         "cntr": "CZ",
         "lat": 49.0515,
         "lon": 14.4305,
         "_deepnote_index_column": 79
        }
       ]
      },
      "text/plain": "       pointid              ip        sts cntr      lat      lon\n38     1000034    81.201.60.30  Connected   CZ  50.0895  14.4885\n60     1000056  176.74.145.221  Connected   CZ  49.3105  16.6195\n61     1000057  90.177.221.181  Connected   CZ  49.1905  16.5795\n63     1000059   46.28.109.126  Connected   CZ  49.0515  14.4295\n67     1000063    84.242.77.74  Connected   CZ  50.0085  14.4505\n...        ...             ...        ...  ...      ...      ...\n34943     6810  78.128.211.119  Connected   CZ  50.0975  14.3875\n34993     6856   188.92.41.251  Connected   CZ  50.0805  14.4495\n35112     6963  185.178.172.32  Connected   CZ  50.0785  14.5205\n35180     7024  93.190.128.178  Connected   CZ  50.0595  14.4785\n35242      721    217.31.205.1  Connected   CZ  49.8275  18.1785\n\n[254 rows x 6 columns]",
      "text/html": "<div>\n<style scoped>\n    .dataframe tbody tr th:only-of-type {\n        vertical-align: middle;\n    }\n\n    .dataframe tbody tr th {\n        vertical-align: top;\n    }\n\n    .dataframe thead th {\n        text-align: right;\n    }\n</style>\n<table border=\"1\" class=\"dataframe\">\n  <thead>\n    <tr style=\"text-align: right;\">\n      <th></th>\n      <th>pointid</th>\n      <th>ip</th>\n      <th>sts</th>\n      <th>cntr</th>\n      <th>lat</th>\n      <th>lon</th>\n    </tr>\n  </thead>\n  <tbody>\n    <tr>\n      <th>38</th>\n      <td>1000034</td>\n      <td>81.201.60.30</td>\n      <td>Connected</td>\n      <td>CZ</td>\n      <td>50.0895</td>\n      <td>14.4885</td>\n    </tr>\n    <tr>\n      <th>60</th>\n      <td>1000056</td>\n      <td>176.74.145.221</td>\n      <td>Connected</td>\n      <td>CZ</td>\n      <td>49.3105</td>\n      <td>16.6195</td>\n    </tr>\n    <tr>\n      <th>61</th>\n      <td>1000057</td>\n      <td>90.177.221.181</td>\n      <td>Connected</td>\n      <td>CZ</td>\n      <td>49.1905</td>\n      <td>16.5795</td>\n    </tr>\n    <tr>\n      <th>63</th>\n      <td>1000059</td>\n      <td>46.28.109.126</td>\n      <td>Connected</td>\n      <td>CZ</td>\n      <td>49.0515</td>\n      <td>14.4295</td>\n    </tr>\n    <tr>\n      <th>67</th>\n      <td>1000063</td>\n      <td>84.242.77.74</td>\n      <td>Connected</td>\n      <td>CZ</td>\n      <td>50.0085</td>\n      <td>14.4505</td>\n    </tr>\n    <tr>\n      <th>...</th>\n      <td>...</td>\n      <td>...</td>\n      <td>...</td>\n      <td>...</td>\n      <td>...</td>\n      <td>...</td>\n    </tr>\n    <tr>\n      <th>34943</th>\n      <td>6810</td>\n      <td>78.128.211.119</td>\n      <td>Connected</td>\n      <td>CZ</td>\n      <td>50.0975</td>\n      <td>14.3875</td>\n    </tr>\n    <tr>\n      <th>34993</th>\n      <td>6856</td>\n      <td>188.92.41.251</td>\n      <td>Connected</td>\n      <td>CZ</td>\n      <td>50.0805</td>\n      <td>14.4495</td>\n    </tr>\n    <tr>\n      <th>35112</th>\n      <td>6963</td>\n      <td>185.178.172.32</td>\n      <td>Connected</td>\n      <td>CZ</td>\n      <td>50.0785</td>\n      <td>14.5205</td>\n    </tr>\n    <tr>\n      <th>35180</th>\n      <td>7024</td>\n      <td>93.190.128.178</td>\n      <td>Connected</td>\n      <td>CZ</td>\n      <td>50.0595</td>\n      <td>14.4785</td>\n    </tr>\n    <tr>\n      <th>35242</th>\n      <td>721</td>\n      <td>217.31.205.1</td>\n      <td>Connected</td>\n      <td>CZ</td>\n      <td>49.8275</td>\n      <td>18.1785</td>\n    </tr>\n  </tbody>\n</table>\n<p>254 rows × 6 columns</p>\n</div>"
     },
     "metadata": {}
    }
   ]
  },
  {
   "cell_type": "markdown",
   "source": "Read provided latency data OR custom latency data",
   "metadata": {
    "cell_id": "bb91f0af-1bd3-4a41-91c7-8a4ae29c5ac9",
    "tags": [],
    "deepnote_app_coordinates": {
     "x": 0,
     "y": 45,
     "w": 12,
     "h": 5
    },
    "deepnote_cell_type": "markdown",
    "deepnote_cell_height": 52.390625
   }
  },
  {
   "cell_type": "code",
   "metadata": {
    "tags": [],
    "cell_id": "00004-76c3011d-23ed-439e-a7ad-e50f88ddd922",
    "deepnote_to_be_reexecuted": false,
    "source_hash": "94a6e60d",
    "execution_start": 1656072654835,
    "execution_millis": 4,
    "deepnote_app_coordinates": {
     "x": 0,
     "y": 51,
     "w": 12,
     "h": 5
    },
    "deepnote_cell_type": "code",
    "deepnote_cell_height": 81
   },
   "source": "latencyfiles_ls = sorted(glob.glob(\"latency/*.json\"),reverse = False)",
   "execution_count": 5,
   "outputs": []
  },
  {
   "cell_type": "markdown",
   "source": "Process latency data for survival analysis",
   "metadata": {
    "cell_id": "4df1cc83-de60-4a14-bd60-751322336293",
    "tags": [],
    "deepnote_app_coordinates": {
     "x": 0,
     "y": 57,
     "w": 12,
     "h": 5
    },
    "deepnote_cell_type": "markdown",
    "deepnote_cell_height": 52.390625
   }
  },
  {
   "cell_type": "code",
   "metadata": {
    "tags": [],
    "cell_id": "00007-fb367120-c695-47e3-aaf1-6f0604fbce86",
    "deepnote_to_be_reexecuted": false,
    "source_hash": "c5713c2e",
    "execution_start": 1656072654901,
    "execution_millis": 3889,
    "deepnote_table_state": {
     "pageSize": 10,
     "pageIndex": 14,
     "filters": [
      {
       "id": "srcid",
       "value": "",
       "type": "contains"
      },
      {
       "id": "latencysrc",
       "value": "trace",
       "type": "contains"
      },
      {
       "id": "observed",
       "value": "",
       "type": "contains"
      },
      {
       "id": "filename",
       "value": "",
       "type": "contains"
      },
      {
       "id": "pointip",
       "value": "",
       "type": "contains"
      }
     ],
     "sortBy": [
      {
       "id": "latency",
       "type": "asc"
      }
     ]
    },
    "deepnote_table_loading": false,
    "deepnote_app_coordinates": {
     "x": 0,
     "y": 63,
     "w": 12,
     "h": 5
    },
    "deepnote_table_invalid": false,
    "deepnote_cell_type": "code",
    "deepnote_cell_height": 2728
   },
   "source": "#ping measurements\ndef ping(file):\n    latency = np.nan\n    pointip = np.nan\n    observed = False\n\n    msr_pf = pd.read_json(file)\n\n    #response is present\n    if len(msr_pf) > 0: \n        pointip = msr_pf.destination_ip.iloc[0]\n\n        if msr_pf.packets_received.iloc[0] > 0:\n            latency = round(msr_pf.round_trip_ms_avg.iloc[0])\n            observed = True\n\n    return [latency,observed,pointip]\n\n#traceroute measurements\ndef hop(path):\n    latency = np.nan\n    latency_ls = []\n\n    try:\n        for i in range(3):  \n            latency_ls.append(path[i]['rtt'])\n\n        latency  = round(sum(latency_ls)/len(latency_ls))\n\n    except:\n        return latency  \n    \n    return latency\n\ndef trace(file):\n    latency = np.nan\n    pointip = np.nan\n    observed = False\n\n    msr_pf = pd.read_json(file)\n\n    if len(msr_pf) > 0:\n\n        pointip = msr_pf.destination_ip.iloc[0]\n\n        msr_pf = msr_pf.reset_index(drop=True)\n        msr_pf = msr_pf.join(pd.json_normalize(msr_pf.hops))\n\n        #avg latency for each hop\n        msr_pf['latency'] = msr_pf.probes.apply(hop)\n\n        #max unobserved latency\n        latency = msr_pf.latency.max()\n\n        #it is possible that ping failed but trace reached the end, we still keep max latency on the path\n        lastip = msr_pf.loc[msr_pf.latency == latency].probes.values[0][0]['ip']\n\n        if lastip == pointip:\n            observed = True\n        else:\n            observed = False\n    \n    return [latency,observed,pointip]\n\nlatency_pf = pd.DataFrame(columns=['latency','observed','pointip','latencytype','pointid','hostid','filename'])\n\nfor path in latencyfiles_ls:\n\n    latency_ls = []\n\n    filename = os.path.basename(path)\n    basename = os.path.basename(path).split('.')[0]\n    hostid = basename.split('_')[0]\n    pointid = basename.split('_')[1]\n    latencytype = basename.split('_')[2]\n\n    if latencytype == 'ping':\n        pointlatency_ls = ping(path)\n    \n    #if trace exists it has preference\n    if latencytype == 'trace':\n        pointlatency_ls = trace(path)\n\n    if len(pointlatency_ls) > 0:\n\n            pointlatency_ls.extend([latencytype,pointid,hostid,filename])\n            \n            latency_pf.loc[len(latency_pf.index)] = pointlatency_ls \n\n    else:\n        print('Unknown latency type',path)\n\n#remove lat <= 1, just getway is reached\nlatency_pf = latency_pf.loc[latency_pf.latency > 1]\n\n#remove lat = NA\nlatency_pf = latency_pf.drop(latency_pf.loc[pd.isna(latency_pf.latency)].index)\n\n#retype\nlatency_pf.latency = latency_pf.latency.astype('int')\nlatency_pf.observed = latency_pf.observed.astype('bool') #for lifelines\n\n#show number of observed and unobserved latency values\nprint('Latency observed:\\n', latency_pf.observed.value_counts())\n\n#show latency values\n#pointip - Atlas probe IP\n#pointid - Atlas probe ID\n#hostid - end host ID from where latency was measured\n#filename - original file with stored latency measurement\nlatency_pf",
   "execution_count": 6,
   "outputs": [
    {
     "name": "stdout",
     "text": "Latency observed:\n True     189\nFalse     63\nName: observed, dtype: int64\n",
     "output_type": "stream"
    },
    {
     "output_type": "execute_result",
     "execution_count": 6,
     "data": {
      "application/vnd.deepnote.dataframe.v3+json": {
       "column_count": 7,
       "row_count": 252,
       "columns": [
        {
         "name": "latency",
         "dtype": "int64",
         "stats": {
          "unique_count": 33,
          "nan_count": 0,
          "min": "9",
          "max": "4276",
          "histogram": [
           {
            "bin_start": 9,
            "bin_end": 435.7,
            "count": 251
           },
           {
            "bin_start": 435.7,
            "bin_end": 862.4,
            "count": 0
           },
           {
            "bin_start": 862.4,
            "bin_end": 1289.1,
            "count": 0
           },
           {
            "bin_start": 1289.1,
            "bin_end": 1715.8,
            "count": 0
           },
           {
            "bin_start": 1715.8,
            "bin_end": 2142.5,
            "count": 0
           },
           {
            "bin_start": 2142.5,
            "bin_end": 2569.2,
            "count": 0
           },
           {
            "bin_start": 2569.2,
            "bin_end": 2995.9,
            "count": 0
           },
           {
            "bin_start": 2995.9,
            "bin_end": 3422.6,
            "count": 0
           },
           {
            "bin_start": 3422.6,
            "bin_end": 3849.2999999999997,
            "count": 0
           },
           {
            "bin_start": 3849.2999999999997,
            "bin_end": 4276,
            "count": 1
           }
          ]
         }
        },
        {
         "name": "observed",
         "dtype": "bool",
         "stats": {
          "unique_count": 2,
          "nan_count": 0,
          "categories": [
           {
            "name": "True",
            "count": 189
           },
           {
            "name": "False",
            "count": 63
           }
          ]
         }
        },
        {
         "name": "pointip",
         "dtype": "object",
         "stats": {
          "unique_count": 244,
          "nan_count": 0,
          "categories": [
           {
            "name": "217.31.205.1",
            "count": 4
           },
           {
            "name": "95.85.255.147",
            "count": 3
           },
           {
            "name": "242 others",
            "count": 245
           }
          ]
         }
        },
        {
         "name": "latencytype",
         "dtype": "object",
         "stats": {
          "unique_count": 2,
          "nan_count": 0,
          "categories": [
           {
            "name": "ping",
            "count": 186
           },
           {
            "name": "trace",
            "count": 66
           }
          ]
         }
        },
        {
         "name": "pointid",
         "dtype": "object",
         "stats": {
          "unique_count": 252,
          "nan_count": 0,
          "categories": [
           {
            "name": "53476",
            "count": 1
           },
           {
            "name": "6680",
            "count": 1
           },
           {
            "name": "250 others",
            "count": 250
           }
          ]
         }
        },
        {
         "name": "hostid",
         "dtype": "object",
         "stats": {
          "unique_count": 1,
          "nan_count": 0,
          "categories": [
           {
            "name": "ef4add9f2d1c428e82690c5db7f404ba",
            "count": 252
           }
          ]
         }
        },
        {
         "name": "filename",
         "dtype": "object",
         "stats": {
          "unique_count": 252,
          "nan_count": 0,
          "categories": [
           {
            "name": "ef4add9f2d1c428e82690c5db7f404ba_53476_ping.json",
            "count": 1
           },
           {
            "name": "ef4add9f2d1c428e82690c5db7f404ba_6680_ping.json",
            "count": 1
           },
           {
            "name": "250 others",
            "count": 250
           }
          ]
         }
        },
        {
         "name": "_deepnote_index_column",
         "dtype": "int64"
        }
       ],
       "rows": [
        {
         "latency": 19,
         "observed": false,
         "pointip": "78.80.123.82",
         "latencytype": "trace",
         "pointid": "1000402",
         "hostid": "ef4add9f2d1c428e82690c5db7f404ba",
         "filename": "ef4add9f2d1c428e82690c5db7f404ba_1000402_trace.json",
         "_deepnote_index_column": 31
        },
        {
         "latency": 19,
         "observed": false,
         "pointip": "85.239.64.22",
         "latencytype": "trace",
         "pointid": "29746",
         "hostid": "ef4add9f2d1c428e82690c5db7f404ba",
         "filename": "ef4add9f2d1c428e82690c5db7f404ba_29746_trace.json",
         "_deepnote_index_column": 233
        },
        {
         "latency": 20,
         "observed": false,
         "pointip": "176.98.252.19",
         "latencytype": "trace",
         "pointid": "22585",
         "hostid": "ef4add9f2d1c428e82690c5db7f404ba",
         "filename": "ef4add9f2d1c428e82690c5db7f404ba_22585_trace.json",
         "_deepnote_index_column": 207
        },
        {
         "latency": 20,
         "observed": true,
         "pointip": "212.96.172.171",
         "latencytype": "ping",
         "pointid": "20171",
         "hostid": "ef4add9f2d1c428e82690c5db7f404ba",
         "filename": "ef4add9f2d1c428e82690c5db7f404ba_20171_ping.json",
         "_deepnote_index_column": 177
        },
        {
         "latency": 20,
         "observed": true,
         "pointip": "178.17.7.25",
         "latencytype": "ping",
         "pointid": "1003257",
         "hostid": "ef4add9f2d1c428e82690c5db7f404ba",
         "filename": "ef4add9f2d1c428e82690c5db7f404ba_1003257_ping.json",
         "_deepnote_index_column": 82
        },
        {
         "latency": 20,
         "observed": false,
         "pointip": "45.87.237.252",
         "latencytype": "trace",
         "pointid": "3695",
         "hostid": "ef4add9f2d1c428e82690c5db7f404ba",
         "filename": "ef4add9f2d1c428e82690c5db7f404ba_3695_trace.json",
         "_deepnote_index_column": 279
        },
        {
         "latency": 20,
         "observed": true,
         "pointip": "62.129.51.6",
         "latencytype": "ping",
         "pointid": "53824",
         "hostid": "ef4add9f2d1c428e82690c5db7f404ba",
         "filename": "ef4add9f2d1c428e82690c5db7f404ba_53824_ping.json",
         "_deepnote_index_column": 302
        },
        {
         "latency": 20,
         "observed": true,
         "pointip": "95.85.255.19",
         "latencytype": "ping",
         "pointid": "1002507",
         "hostid": "ef4add9f2d1c428e82690c5db7f404ba",
         "filename": "ef4add9f2d1c428e82690c5db7f404ba_1002507_ping.json",
         "_deepnote_index_column": 58
        },
        {
         "latency": 20,
         "observed": true,
         "pointip": "178.248.11.5",
         "latencytype": "ping",
         "pointid": "16657",
         "hostid": "ef4add9f2d1c428e82690c5db7f404ba",
         "filename": "ef4add9f2d1c428e82690c5db7f404ba_16657_ping.json",
         "_deepnote_index_column": 134
        },
        {
         "latency": 20,
         "observed": true,
         "pointip": "185.218.92.12",
         "latencytype": "ping",
         "pointid": "18766",
         "hostid": "ef4add9f2d1c428e82690c5db7f404ba",
         "filename": "ef4add9f2d1c428e82690c5db7f404ba_18766_ping.json",
         "_deepnote_index_column": 162
        }
       ]
      },
      "text/plain": "     latency  observed         pointip latencytype  pointid  \\\n0         15      True    81.201.60.30        ping  1000034   \n1         18      True  176.74.145.221        ping  1000056   \n2         22      True  90.177.221.181        ping  1000057   \n3         16      True   46.28.109.126        ping  1000059   \n4         17      True    84.242.77.74        ping  1000063   \n..       ...       ...             ...         ...      ...   \n317       13      True  78.128.211.119        ping     6810   \n318       12      True   188.92.41.251        ping     6856   \n319       14      True  185.178.172.32        ping     6963   \n320       13      True  93.190.128.178        ping     7024   \n321       12      True    217.31.205.1        ping      721   \n\n                               hostid  \\\n0    ef4add9f2d1c428e82690c5db7f404ba   \n1    ef4add9f2d1c428e82690c5db7f404ba   \n2    ef4add9f2d1c428e82690c5db7f404ba   \n3    ef4add9f2d1c428e82690c5db7f404ba   \n4    ef4add9f2d1c428e82690c5db7f404ba   \n..                                ...   \n317  ef4add9f2d1c428e82690c5db7f404ba   \n318  ef4add9f2d1c428e82690c5db7f404ba   \n319  ef4add9f2d1c428e82690c5db7f404ba   \n320  ef4add9f2d1c428e82690c5db7f404ba   \n321  ef4add9f2d1c428e82690c5db7f404ba   \n\n                                              filename  \n0    ef4add9f2d1c428e82690c5db7f404ba_1000034_ping....  \n1    ef4add9f2d1c428e82690c5db7f404ba_1000056_ping....  \n2    ef4add9f2d1c428e82690c5db7f404ba_1000057_ping....  \n3    ef4add9f2d1c428e82690c5db7f404ba_1000059_ping....  \n4    ef4add9f2d1c428e82690c5db7f404ba_1000063_ping....  \n..                                                 ...  \n317    ef4add9f2d1c428e82690c5db7f404ba_6810_ping.json  \n318    ef4add9f2d1c428e82690c5db7f404ba_6856_ping.json  \n319    ef4add9f2d1c428e82690c5db7f404ba_6963_ping.json  \n320    ef4add9f2d1c428e82690c5db7f404ba_7024_ping.json  \n321     ef4add9f2d1c428e82690c5db7f404ba_721_ping.json  \n\n[252 rows x 7 columns]",
      "text/html": "<div>\n<style scoped>\n    .dataframe tbody tr th:only-of-type {\n        vertical-align: middle;\n    }\n\n    .dataframe tbody tr th {\n        vertical-align: top;\n    }\n\n    .dataframe thead th {\n        text-align: right;\n    }\n</style>\n<table border=\"1\" class=\"dataframe\">\n  <thead>\n    <tr style=\"text-align: right;\">\n      <th></th>\n      <th>latency</th>\n      <th>observed</th>\n      <th>pointip</th>\n      <th>latencytype</th>\n      <th>pointid</th>\n      <th>hostid</th>\n      <th>filename</th>\n    </tr>\n  </thead>\n  <tbody>\n    <tr>\n      <th>0</th>\n      <td>15</td>\n      <td>True</td>\n      <td>81.201.60.30</td>\n      <td>ping</td>\n      <td>1000034</td>\n      <td>ef4add9f2d1c428e82690c5db7f404ba</td>\n      <td>ef4add9f2d1c428e82690c5db7f404ba_1000034_ping....</td>\n    </tr>\n    <tr>\n      <th>1</th>\n      <td>18</td>\n      <td>True</td>\n      <td>176.74.145.221</td>\n      <td>ping</td>\n      <td>1000056</td>\n      <td>ef4add9f2d1c428e82690c5db7f404ba</td>\n      <td>ef4add9f2d1c428e82690c5db7f404ba_1000056_ping....</td>\n    </tr>\n    <tr>\n      <th>2</th>\n      <td>22</td>\n      <td>True</td>\n      <td>90.177.221.181</td>\n      <td>ping</td>\n      <td>1000057</td>\n      <td>ef4add9f2d1c428e82690c5db7f404ba</td>\n      <td>ef4add9f2d1c428e82690c5db7f404ba_1000057_ping....</td>\n    </tr>\n    <tr>\n      <th>3</th>\n      <td>16</td>\n      <td>True</td>\n      <td>46.28.109.126</td>\n      <td>ping</td>\n      <td>1000059</td>\n      <td>ef4add9f2d1c428e82690c5db7f404ba</td>\n      <td>ef4add9f2d1c428e82690c5db7f404ba_1000059_ping....</td>\n    </tr>\n    <tr>\n      <th>4</th>\n      <td>17</td>\n      <td>True</td>\n      <td>84.242.77.74</td>\n      <td>ping</td>\n      <td>1000063</td>\n      <td>ef4add9f2d1c428e82690c5db7f404ba</td>\n      <td>ef4add9f2d1c428e82690c5db7f404ba_1000063_ping....</td>\n    </tr>\n    <tr>\n      <th>...</th>\n      <td>...</td>\n      <td>...</td>\n      <td>...</td>\n      <td>...</td>\n      <td>...</td>\n      <td>...</td>\n      <td>...</td>\n    </tr>\n    <tr>\n      <th>317</th>\n      <td>13</td>\n      <td>True</td>\n      <td>78.128.211.119</td>\n      <td>ping</td>\n      <td>6810</td>\n      <td>ef4add9f2d1c428e82690c5db7f404ba</td>\n      <td>ef4add9f2d1c428e82690c5db7f404ba_6810_ping.json</td>\n    </tr>\n    <tr>\n      <th>318</th>\n      <td>12</td>\n      <td>True</td>\n      <td>188.92.41.251</td>\n      <td>ping</td>\n      <td>6856</td>\n      <td>ef4add9f2d1c428e82690c5db7f404ba</td>\n      <td>ef4add9f2d1c428e82690c5db7f404ba_6856_ping.json</td>\n    </tr>\n    <tr>\n      <th>319</th>\n      <td>14</td>\n      <td>True</td>\n      <td>185.178.172.32</td>\n      <td>ping</td>\n      <td>6963</td>\n      <td>ef4add9f2d1c428e82690c5db7f404ba</td>\n      <td>ef4add9f2d1c428e82690c5db7f404ba_6963_ping.json</td>\n    </tr>\n    <tr>\n      <th>320</th>\n      <td>13</td>\n      <td>True</td>\n      <td>93.190.128.178</td>\n      <td>ping</td>\n      <td>7024</td>\n      <td>ef4add9f2d1c428e82690c5db7f404ba</td>\n      <td>ef4add9f2d1c428e82690c5db7f404ba_7024_ping.json</td>\n    </tr>\n    <tr>\n      <th>321</th>\n      <td>12</td>\n      <td>True</td>\n      <td>217.31.205.1</td>\n      <td>ping</td>\n      <td>721</td>\n      <td>ef4add9f2d1c428e82690c5db7f404ba</td>\n      <td>ef4add9f2d1c428e82690c5db7f404ba_721_ping.json</td>\n    </tr>\n  </tbody>\n</table>\n<p>252 rows × 7 columns</p>\n</div>"
     },
     "metadata": {}
    }
   ]
  },
  {
   "cell_type": "markdown",
   "source": "Plot latency observation links in country",
   "metadata": {
    "cell_id": "ab30716f-960b-40f6-9bfd-880cefa70413",
    "tags": [],
    "deepnote_app_coordinates": {
     "x": 0,
     "y": 0,
     "w": 12,
     "h": 5
    },
    "deepnote_cell_type": "markdown",
    "deepnote_cell_height": 52.390625
   }
  },
  {
   "cell_type": "code",
   "metadata": {
    "cell_id": "3fe46fc5-289c-4d17-9b3a-243758c627d6",
    "tags": [],
    "deepnote_app_coordinates": {
     "x": 0,
     "y": 0,
     "w": 12,
     "h": 5
    },
    "deepnote_to_be_reexecuted": false,
    "source_hash": "75da8751",
    "execution_start": 1656072658796,
    "execution_millis": 5,
    "deepnote_cell_type": "code",
    "deepnote_cell_height": 945
   },
   "source": "%%capture --no-display\n\nif geographicplot:\n\n    #fill host location\n    latency_pf['hostlat'] = endhostlat;latency_pf['hostlon'] = endhostlon\n\n    #fill observation point (Atlas probe) location \n    latency_pf['pointlat'] = np.nan;latency_pf['pointlon'] = np.nan\n    for pointid in latency_pf.pointid:\n        latency_pf.loc[latency_pf.pointid == pointid,'pointlat'] = points_pf.loc[points_pf.pointid == pointid].lat.values[0]\n        latency_pf.loc[latency_pf.pointid == pointid,'pointlon'] = points_pf.loc[points_pf.pointid == pointid].lon.values[0]\n\n    #clip map to country (ISO A3)\n    world = gpd.read_file(gpd.datasets.get_path('naturalearth_lowres')) \n    world = world[world['iso_a3'].isin([countrya3])]\n    ax = world.plot(color='white', edgecolor='black',figsize=(8, 12))\n    ax.set_aspect('equal')\n    ax.ticklabel_format(style='plain', useOffset=False, axis='both')\n\n    #transform to geopandas\n    latency_gpf = gpd.GeoDataFrame(latency_pf)\n    latency_gpf['pointcrd'] = gpd.points_from_xy(latency_pf.pointlon,latency_pf.pointlat)\n    latency_gpf['hostcrd'] = gpd.points_from_xy(latency_pf.hostlon,latency_pf.hostlat)\n\n    #create lines between host and observation points\n    latency_gpf['lines'] = gpd.GeoSeries(latency_gpf.apply(lambda row: LineString([row.pointcrd,row.hostcrd]),axis=1))\n    latency_gpf.lines = latency_gpf.lines.set_crs(world.crs)\n\n    #plot observation points and host\n    latency_gpf.pointcrd.plot(ax=ax, marker='+', color='black', markersize=150)\n    latency_gpf.hostcrd.plot(ax=ax, marker='o', color='black', markersize=150)\n    \n    #plot observation links - observed and unobserved latency\n    latency_gpf.loc[latency_gpf.observed == True].lines.plot(ax=ax, color='brown')\n    latency_gpf.loc[latency_gpf.observed == False].lines.plot(ax=ax,  linestyle='dashed',color='royalblue')\n\n    legend_elements = [\n        Line2D([0], [0], color='black', marker='+', linestyle='none', lw=2, markersize=15, label='Latency observation point'),\n        Line2D([0], [0], color='black', marker='o', linestyle='none', markersize=5,label='Host analyzed'),\n        Line2D([0], [0], color='brown', lw=2, label='Observed latency'),\n        Line2D([0], [0], color='royalblue', lw=2, linestyle='--', label='Unobserved latency (censored)'),\n        Line2D([0], [0], color='black', lw=2, label='Country border')\n        ]\n\n    ax.legend(handles=legend_elements, loc='upper right')\n    plt.axis('off')\n\n    plt.show()",
   "execution_count": 7,
   "outputs": []
  },
  {
   "cell_type": "markdown",
   "source": "Process survival latency and show median survival",
   "metadata": {
    "cell_id": "9ff5b839-b30b-4486-a42c-d8f627868635",
    "tags": [],
    "deepnote_app_coordinates": {
     "x": 0,
     "y": 81,
     "w": 12,
     "h": 5
    },
    "deepnote_cell_type": "markdown",
    "deepnote_cell_height": 52.390625
   }
  },
  {
   "cell_type": "code",
   "metadata": {
    "cell_id": "736a64fc-db3c-44a9-a463-7c77e856a47c",
    "tags": [],
    "deepnote_to_be_reexecuted": false,
    "source_hash": "e9041396",
    "execution_start": 1656072658813,
    "execution_millis": 930,
    "deepnote_app_coordinates": {
     "x": 0,
     "y": 87,
     "w": 12,
     "h": 5
    },
    "deepnote_cell_type": "code",
    "deepnote_cell_height": 737.1875,
    "deepnote_output_heights": [
     null,
     271
    ]
   },
   "source": "#use Kaplan-Meier estimator\nsurvivallatency = KaplanMeierFitter().fit(latency_pf.latency,latency_pf.observed)\n\n#get median survival\nsurvivalmedian = survivallatency.median_survival_time_\n\nprint(survivalmedian)\n\nax = survivallatency.plot(label='Median survival latency',show_censors=True)\nax.set_xlabel('Latency [ms]')\nax.set_ylabel('P(X>x)')\nax.vlines(survivalmedian,0,1, lw=2, linestyles='--',color='black')\nax.legend(loc='upper right')\nax.set_xlim([0, 50])\n\n#add event table (sample)\nadd_at_risk_counts(survivallatency,ax=ax)\n\nplt.tight_layout()",
   "execution_count": 8,
   "outputs": [
    {
     "name": "stdout",
     "text": "19.0\n",
     "output_type": "stream"
    },
    {
     "data": {
      "text/plain": "<Figure size 432x288 with 2 Axes>",
      "image/png": "[encoded data removed]"
     },
     "metadata": {
      "needs_background": "light",
      "image/png": {
       "width": 424,
       "height": 269
      }
     },
     "output_type": "display_data"
    }
   ]
  },
  {
   "cell_type": "markdown",
   "source": "Show full survival latency table",
   "metadata": {
    "cell_id": "7c918264-c224-48a4-81e4-c7fb0415cf83",
    "tags": [],
    "deepnote_cell_type": "markdown",
    "deepnote_cell_height": 52.390625
   }
  },
  {
   "cell_type": "code",
   "metadata": {
    "cell_id": "fa908daf-18eb-45fc-85db-9f971180bc31",
    "tags": [],
    "deepnote_to_be_reexecuted": false,
    "source_hash": "c7f96008",
    "execution_start": 1656072659363,
    "execution_millis": 27,
    "deepnote_cell_type": "code",
    "deepnote_cell_height": 600
   },
   "source": "survivallatency.event_table",
   "execution_count": 9,
   "outputs": [
    {
     "output_type": "execute_result",
     "execution_count": 9,
     "data": {
      "application/vnd.deepnote.dataframe.v3+json": {
       "column_count": 5,
       "row_count": 34,
       "columns": [
        {
         "name": "removed",
         "dtype": "int64",
         "stats": {
          "unique_count": 15,
          "nan_count": 0,
          "min": "0",
          "max": "23",
          "histogram": [
           {
            "bin_start": 0,
            "bin_end": 2.3,
            "count": 12
           },
           {
            "bin_start": 2.3,
            "bin_end": 4.6,
            "count": 6
           },
           {
            "bin_start": 4.6,
            "bin_end": 6.8999999999999995,
            "count": 2
           },
           {
            "bin_start": 6.8999999999999995,
            "bin_end": 9.2,
            "count": 1
           },
           {
            "bin_start": 9.2,
            "bin_end": 11.5,
            "count": 4
           },
           {
            "bin_start": 11.5,
            "bin_end": 13.799999999999999,
            "count": 0
           },
           {
            "bin_start": 13.799999999999999,
            "bin_end": 16.099999999999998,
            "count": 3
           },
           {
            "bin_start": 16.099999999999998,
            "bin_end": 18.4,
            "count": 3
           },
           {
            "bin_start": 18.4,
            "bin_end": 20.7,
            "count": 2
           },
           {
            "bin_start": 20.7,
            "bin_end": 23,
            "count": 1
           }
          ]
         }
        },
        {
         "name": "observed",
         "dtype": "int64",
         "stats": {
          "unique_count": 15,
          "nan_count": 0,
          "min": "0",
          "max": "23",
          "histogram": [
           {
            "bin_start": 0,
            "bin_end": 2.3,
            "count": 18
           },
           {
            "bin_start": 2.3,
            "bin_end": 4.6,
            "count": 4
           },
           {
            "bin_start": 4.6,
            "bin_end": 6.8999999999999995,
            "count": 1
           },
           {
            "bin_start": 6.8999999999999995,
            "bin_end": 9.2,
            "count": 3
           },
           {
            "bin_start": 9.2,
            "bin_end": 11.5,
            "count": 1
           },
           {
            "bin_start": 11.5,
            "bin_end": 13.799999999999999,
            "count": 1
           },
           {
            "bin_start": 13.799999999999999,
            "bin_end": 16.099999999999998,
            "count": 2
           },
           {
            "bin_start": 16.099999999999998,
            "bin_end": 18.4,
            "count": 1
           },
           {
            "bin_start": 18.4,
            "bin_end": 20.7,
            "count": 2
           },
           {
            "bin_start": 20.7,
            "bin_end": 23,
            "count": 1
           }
          ]
         }
        },
        {
         "name": "censored",
         "dtype": "int64",
         "stats": {
          "unique_count": 9,
          "nan_count": 0,
          "min": "0",
          "max": "10",
          "histogram": [
           {
            "bin_start": 0,
            "bin_end": 1,
            "count": 14
           },
           {
            "bin_start": 1,
            "bin_end": 2,
            "count": 7
           },
           {
            "bin_start": 2,
            "bin_end": 3,
            "count": 5
           },
           {
            "bin_start": 3,
            "bin_end": 4,
            "count": 3
           },
           {
            "bin_start": 4,
            "bin_end": 5,
            "count": 0
           },
           {
            "bin_start": 5,
            "bin_end": 6,
            "count": 1
           },
           {
            "bin_start": 6,
            "bin_end": 7,
            "count": 1
           },
           {
            "bin_start": 7,
            "bin_end": 8,
            "count": 1
           },
           {
            "bin_start": 8,
            "bin_end": 9,
            "count": 0
           },
           {
            "bin_start": 9,
            "bin_end": 10,
            "count": 2
           }
          ]
         }
        },
        {
         "name": "entrance",
         "dtype": "int64",
         "stats": {
          "unique_count": 2,
          "nan_count": 0,
          "min": "0",
          "max": "252",
          "histogram": [
           {
            "bin_start": 0,
            "bin_end": 25.2,
            "count": 33
           },
           {
            "bin_start": 25.2,
            "bin_end": 50.4,
            "count": 0
           },
           {
            "bin_start": 50.4,
            "bin_end": 75.6,
            "count": 0
           },
           {
            "bin_start": 75.6,
            "bin_end": 100.8,
            "count": 0
           },
           {
            "bin_start": 100.8,
            "bin_end": 126,
            "count": 0
           },
           {
            "bin_start": 126,
            "bin_end": 151.2,
            "count": 0
           },
           {
            "bin_start": 151.2,
            "bin_end": 176.4,
            "count": 0
           },
           {
            "bin_start": 176.4,
            "bin_end": 201.6,
            "count": 0
           },
           {
            "bin_start": 201.6,
            "bin_end": 226.79999999999998,
            "count": 0
           },
           {
            "bin_start": 226.79999999999998,
            "bin_end": 252,
            "count": 1
           }
          ]
         }
        },
        {
         "name": "at_risk",
         "dtype": "int64",
         "stats": {
          "unique_count": 33,
          "nan_count": 0,
          "min": "1",
          "max": "252",
          "histogram": [
           {
            "bin_start": 1,
            "bin_end": 26.1,
            "count": 14
           },
           {
            "bin_start": 26.1,
            "bin_end": 51.2,
            "count": 3
           },
           {
            "bin_start": 51.2,
            "bin_end": 76.30000000000001,
            "count": 3
           },
           {
            "bin_start": 76.30000000000001,
            "bin_end": 101.4,
            "count": 2
           },
           {
            "bin_start": 101.4,
            "bin_end": 126.5,
            "count": 1
           },
           {
            "bin_start": 126.5,
            "bin_end": 151.60000000000002,
            "count": 2
           },
           {
            "bin_start": 151.60000000000002,
            "bin_end": 176.70000000000002,
            "count": 2
           },
           {
            "bin_start": 176.70000000000002,
            "bin_end": 201.8,
            "count": 1
           },
           {
            "bin_start": 201.8,
            "bin_end": 226.9,
            "count": 1
           },
           {
            "bin_start": 226.9,
            "bin_end": 252,
            "count": 5
           }
          ]
         }
        },
        {
         "name": "_deepnote_index_column",
         "dtype": "float64"
        }
       ],
       "rows": [
        {
         "removed": 0,
         "observed": 0,
         "censored": 0,
         "entrance": 252,
         "at_risk": 252,
         "_deepnote_index_column": 0
        },
        {
         "removed": 1,
         "observed": 1,
         "censored": 0,
         "entrance": 0,
         "at_risk": 252,
         "_deepnote_index_column": 9
        },
        {
         "removed": 4,
         "observed": 4,
         "censored": 0,
         "entrance": 0,
         "at_risk": 251,
         "_deepnote_index_column": 11
        },
        {
         "removed": 14,
         "observed": 14,
         "censored": 0,
         "entrance": 0,
         "at_risk": 247,
         "_deepnote_index_column": 12
        },
        {
         "removed": 23,
         "observed": 23,
         "censored": 0,
         "entrance": 0,
         "at_risk": 233,
         "_deepnote_index_column": 13
        },
        {
         "removed": 17,
         "observed": 17,
         "censored": 0,
         "entrance": 0,
         "at_risk": 210,
         "_deepnote_index_column": 14
        },
        {
         "removed": 19,
         "observed": 19,
         "censored": 0,
         "entrance": 0,
         "at_risk": 193,
         "_deepnote_index_column": 15
        },
        {
         "removed": 19,
         "observed": 19,
         "censored": 0,
         "entrance": 0,
         "at_risk": 174,
         "_deepnote_index_column": 16
        },
        {
         "removed": 16,
         "observed": 16,
         "censored": 0,
         "entrance": 0,
         "at_risk": 155,
         "_deepnote_index_column": 17
        },
        {
         "removed": 11,
         "observed": 11,
         "censored": 0,
         "entrance": 0,
         "at_risk": 139,
         "_deepnote_index_column": 18
        }
       ]
      },
      "text/plain": "          removed  observed  censored  entrance  at_risk\nevent_at                                                \n0.0             0         0         0       252      252\n9.0             1         1         0         0      252\n11.0            4         4         0         0      251\n12.0           14        14         0         0      247\n13.0           23        23         0         0      233\n14.0           17        17         0         0      210\n15.0           19        19         0         0      193\n16.0           19        19         0         0      174\n17.0           16        16         0         0      155\n18.0           11        11         0         0      139\n19.0           18        13         5         0      128\n20.0           11         9         2         0      110\n21.0           17         7        10         0       99\n22.0           14         5         9         0       82\n23.0           10         7         3         0       68\n24.0            5         3         2         0       58\n25.0            9         2         7         0       53\n26.0           10         4         6         0       44\n27.0            4         1         3         0       34\n28.0            4         2         2         0       30\n29.0            3         1         2         0       26\n30.0            5         3         2         0       23\n31.0            1         0         1         0       18\n32.0            2         2         0         0       17\n33.0            4         1         3         0       15\n35.0            3         2         1         0       11\n37.0            1         1         0         0        8\n39.0            1         0         1         0        7\n53.0            1         1         0         0        6\n55.0            1         0         1         0        5\n69.0            1         0         1         0        4\n102.0           1         0         1         0        3\n165.0           1         1         0         0        2\n4276.0          1         0         1         0        1",
      "text/html": "<div>\n<style scoped>\n    .dataframe tbody tr th:only-of-type {\n        vertical-align: middle;\n    }\n\n    .dataframe tbody tr th {\n        vertical-align: top;\n    }\n\n    .dataframe thead th {\n        text-align: right;\n    }\n</style>\n<table border=\"1\" class=\"dataframe\">\n  <thead>\n    <tr style=\"text-align: right;\">\n      <th></th>\n      <th>removed</th>\n      <th>observed</th>\n      <th>censored</th>\n      <th>entrance</th>\n      <th>at_risk</th>\n    </tr>\n    <tr>\n      <th>event_at</th>\n      <th></th>\n      <th></th>\n      <th></th>\n      <th></th>\n      <th></th>\n    </tr>\n  </thead>\n  <tbody>\n    <tr>\n      <th>0.0</th>\n      <td>0</td>\n      <td>0</td>\n      <td>0</td>\n      <td>252</td>\n      <td>252</td>\n    </tr>\n    <tr>\n      <th>9.0</th>\n      <td>1</td>\n      <td>1</td>\n      <td>0</td>\n      <td>0</td>\n      <td>252</td>\n    </tr>\n    <tr>\n      <th>11.0</th>\n      <td>4</td>\n      <td>4</td>\n      <td>0</td>\n      <td>0</td>\n      <td>251</td>\n    </tr>\n    <tr>\n      <th>12.0</th>\n      <td>14</td>\n      <td>14</td>\n      <td>0</td>\n      <td>0</td>\n      <td>247</td>\n    </tr>\n    <tr>\n      <th>13.0</th>\n      <td>23</td>\n      <td>23</td>\n      <td>0</td>\n      <td>0</td>\n      <td>233</td>\n    </tr>\n    <tr>\n      <th>14.0</th>\n      <td>17</td>\n      <td>17</td>\n      <td>0</td>\n      <td>0</td>\n      <td>210</td>\n    </tr>\n    <tr>\n      <th>15.0</th>\n      <td>19</td>\n      <td>19</td>\n      <td>0</td>\n      <td>0</td>\n      <td>193</td>\n    </tr>\n    <tr>\n      <th>16.0</th>\n      <td>19</td>\n      <td>19</td>\n      <td>0</td>\n      <td>0</td>\n      <td>174</td>\n    </tr>\n    <tr>\n      <th>17.0</th>\n      <td>16</td>\n      <td>16</td>\n      <td>0</td>\n      <td>0</td>\n      <td>155</td>\n    </tr>\n    <tr>\n      <th>18.0</th>\n      <td>11</td>\n      <td>11</td>\n      <td>0</td>\n      <td>0</td>\n      <td>139</td>\n    </tr>\n    <tr>\n      <th>19.0</th>\n      <td>18</td>\n      <td>13</td>\n      <td>5</td>\n      <td>0</td>\n      <td>128</td>\n    </tr>\n    <tr>\n      <th>20.0</th>\n      <td>11</td>\n      <td>9</td>\n      <td>2</td>\n      <td>0</td>\n      <td>110</td>\n    </tr>\n    <tr>\n      <th>21.0</th>\n      <td>17</td>\n      <td>7</td>\n      <td>10</td>\n      <td>0</td>\n      <td>99</td>\n    </tr>\n    <tr>\n      <th>22.0</th>\n      <td>14</td>\n      <td>5</td>\n      <td>9</td>\n      <td>0</td>\n      <td>82</td>\n    </tr>\n    <tr>\n      <th>23.0</th>\n      <td>10</td>\n      <td>7</td>\n      <td>3</td>\n      <td>0</td>\n      <td>68</td>\n    </tr>\n    <tr>\n      <th>24.0</th>\n      <td>5</td>\n      <td>3</td>\n      <td>2</td>\n      <td>0</td>\n      <td>58</td>\n    </tr>\n    <tr>\n      <th>25.0</th>\n      <td>9</td>\n      <td>2</td>\n      <td>7</td>\n      <td>0</td>\n      <td>53</td>\n    </tr>\n    <tr>\n      <th>26.0</th>\n      <td>10</td>\n      <td>4</td>\n      <td>6</td>\n      <td>0</td>\n      <td>44</td>\n    </tr>\n    <tr>\n      <th>27.0</th>\n      <td>4</td>\n      <td>1</td>\n      <td>3</td>\n      <td>0</td>\n      <td>34</td>\n    </tr>\n    <tr>\n      <th>28.0</th>\n      <td>4</td>\n      <td>2</td>\n      <td>2</td>\n      <td>0</td>\n      <td>30</td>\n    </tr>\n    <tr>\n      <th>29.0</th>\n      <td>3</td>\n      <td>1</td>\n      <td>2</td>\n      <td>0</td>\n      <td>26</td>\n    </tr>\n    <tr>\n      <th>30.0</th>\n      <td>5</td>\n      <td>3</td>\n      <td>2</td>\n      <td>0</td>\n      <td>23</td>\n    </tr>\n    <tr>\n      <th>31.0</th>\n      <td>1</td>\n      <td>0</td>\n      <td>1</td>\n      <td>0</td>\n      <td>18</td>\n    </tr>\n    <tr>\n      <th>32.0</th>\n      <td>2</td>\n      <td>2</td>\n      <td>0</td>\n      <td>0</td>\n      <td>17</td>\n    </tr>\n    <tr>\n      <th>33.0</th>\n      <td>4</td>\n      <td>1</td>\n      <td>3</td>\n      <td>0</td>\n      <td>15</td>\n    </tr>\n    <tr>\n      <th>35.0</th>\n      <td>3</td>\n      <td>2</td>\n      <td>1</td>\n      <td>0</td>\n      <td>11</td>\n    </tr>\n    <tr>\n      <th>37.0</th>\n      <td>1</td>\n      <td>1</td>\n      <td>0</td>\n      <td>0</td>\n      <td>8</td>\n    </tr>\n    <tr>\n      <th>39.0</th>\n      <td>1</td>\n      <td>0</td>\n      <td>1</td>\n      <td>0</td>\n      <td>7</td>\n    </tr>\n    <tr>\n      <th>53.0</th>\n      <td>1</td>\n      <td>1</td>\n      <td>0</td>\n      <td>0</td>\n      <td>6</td>\n    </tr>\n    <tr>\n      <th>55.0</th>\n      <td>1</td>\n      <td>0</td>\n      <td>1</td>\n      <td>0</td>\n      <td>5</td>\n    </tr>\n    <tr>\n      <th>69.0</th>\n      <td>1</td>\n      <td>0</td>\n      <td>1</td>\n      <td>0</td>\n      <td>4</td>\n    </tr>\n    <tr>\n      <th>102.0</th>\n      <td>1</td>\n      <td>0</td>\n      <td>1</td>\n      <td>0</td>\n      <td>3</td>\n    </tr>\n    <tr>\n      <th>165.0</th>\n      <td>1</td>\n      <td>1</td>\n      <td>0</td>\n      <td>0</td>\n      <td>2</td>\n    </tr>\n    <tr>\n      <th>4276.0</th>\n      <td>1</td>\n      <td>0</td>\n      <td>1</td>\n      <td>0</td>\n      <td>1</td>\n    </tr>\n  </tbody>\n</table>\n</div>"
     },
     "metadata": {}
    }
   ]
  },
  {
   "cell_type": "markdown",
   "source": "Process mean traditional latency and restricted mean survival latency",
   "metadata": {
    "cell_id": "893eb047-58ca-415f-a657-431e6c46024f",
    "tags": [],
    "deepnote_cell_type": "markdown",
    "deepnote_cell_height": 52.390625
   }
  },
  {
   "cell_type": "code",
   "metadata": {
    "cell_id": "52d0d6bf-eb3c-4de0-ac7c-25365382ece8",
    "tags": [],
    "deepnote_to_be_reexecuted": false,
    "source_hash": "cfe53035",
    "execution_start": 1656072659437,
    "execution_millis": 309,
    "deepnote_cell_type": "code",
    "deepnote_cell_height": 653,
    "deepnote_output_heights": [
     268
    ]
   },
   "source": "%%capture --no-display\n\nlimit = 150 # to exclude latency caused by temporary networking problems\n\n#use the limit also for observed latency\n#mean latency from observed latency only\nsimplemean = round(latency_pf.loc[(latency_pf.observed == True) & (latency_pf.latency < limit)].latency.mean())\n\n#survival mean latency including unobserved values\nrestrictedsurvivalmean = round(restricted_mean_survival_time(survivallatency, t=limit))\n\nax = rmst_plot(survivallatency, t=limit, label='Restricted mean survival latency (limit 150ms)')\nax.set_ylabel('P(X>x)')\nax.set_xlabel('Latency [ms]')\nax.set_xlim([0, 200])\n\nplt.show()",
   "execution_count": 10,
   "outputs": [
    {
     "data": {
      "text/plain": "<Figure size 432x288 with 1 Axes>",
      "image/png": "[encoded data removed]"
     },
     "metadata": {
      "needs_background": "light",
      "image/png": {
       "width": 395,
       "height": 266
      }
     },
     "output_type": "display_data"
    }
   ]
  },
  {
   "cell_type": "markdown",
   "source": "Show ISP latency assessment by **mean traditional latency** and by **restricted mean survival latency**",
   "metadata": {
    "cell_id": "ed7acec2-620a-4cdd-b046-8f181258e561",
    "tags": [],
    "deepnote_cell_type": "markdown",
    "deepnote_cell_height": 52.390625
   }
  },
  {
   "cell_type": "code",
   "metadata": {
    "cell_id": "6d1d5477-0154-4180-bfcd-858edd7bad52",
    "tags": [],
    "deepnote_to_be_reexecuted": false,
    "source_hash": "ee515f99",
    "execution_start": 1656072659662,
    "execution_millis": 84,
    "owner_user_id": "4e26377f-f822-4767-b8d0-46e25b3f5e16",
    "deepnote_cell_type": "code",
    "deepnote_cell_height": 222.765625
   },
   "source": "print('Mean traditional latency:',simplemean,'ms')\nprint('Restricted mean survival latency:',restrictedsurvivalmean,'ms')\nprint()\nprint('Difference of mean traditional and survival latency:',restrictedsurvivalmean-simplemean,'ms')",
   "execution_count": 11,
   "outputs": [
    {
     "name": "stdout",
     "text": "Mean traditional latency: 18 ms\nRestricted mean survival latency: 33 ms\n\nDifference of mean traditional and survival latency: 15 ms\n",
     "output_type": "stream"
    }
   ]
  }
 ],
 "nbformat": 4,
 "nbformat_minor": 2,
 "metadata": {
  "orig_nbformat": 2,
  "deepnote": {
   "is_reactive": false
  },
  "deepnote_notebook_id": "cae9378a-9a33-420c-a966-cc8a33feb06a",
  "deepnote_execution_queue": [],
  "deepnote_app_layout": "article"
 }
}